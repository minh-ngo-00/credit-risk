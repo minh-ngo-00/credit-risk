{
 "cells": [
  {
   "cell_type": "code",
   "execution_count": 1,
   "metadata": {},
   "outputs": [],
   "source": [
    "import polars as pl\n",
    "import pandas as pd\n",
    "from pathlib import Path\n",
    "import lightgbm as lgb\n",
    "import xgboost as xgb\n",
    "import catboost\n",
    "import numpy as np"
   ]
  },
  {
   "cell_type": "code",
   "execution_count": 2,
   "metadata": {},
   "outputs": [],
   "source": [
    "train_dir='parquet_files/train/'"
   ]
  },
  {
   "cell_type": "code",
   "execution_count": 3,
   "metadata": {
    "scrolled": true
   },
   "outputs": [
    {
     "data": {
      "text/plain": [
       "['train_applprev_1_0.parquet',\n",
       " 'train_applprev_1_1.parquet',\n",
       " 'train_applprev_2.parquet',\n",
       " 'train_base.parquet',\n",
       " 'train_credit_bureau_a_1_0.parquet',\n",
       " 'train_credit_bureau_a_1_1.parquet',\n",
       " 'train_credit_bureau_a_1_2.parquet',\n",
       " 'train_credit_bureau_a_1_3.parquet',\n",
       " 'train_credit_bureau_a_2_0.parquet',\n",
       " 'train_credit_bureau_a_2_1.parquet',\n",
       " 'train_credit_bureau_a_2_10.parquet',\n",
       " 'train_credit_bureau_a_2_2.parquet',\n",
       " 'train_credit_bureau_a_2_3.parquet',\n",
       " 'train_credit_bureau_a_2_4.parquet',\n",
       " 'train_credit_bureau_a_2_5.parquet',\n",
       " 'train_credit_bureau_a_2_6.parquet',\n",
       " 'train_credit_bureau_a_2_7.parquet',\n",
       " 'train_credit_bureau_a_2_8.parquet',\n",
       " 'train_credit_bureau_a_2_9.parquet',\n",
       " 'train_credit_bureau_b_1.parquet',\n",
       " 'train_credit_bureau_b_2.parquet',\n",
       " 'train_debitcard_1.parquet',\n",
       " 'train_deposit_1.parquet',\n",
       " 'train_other_1.parquet',\n",
       " 'train_person_1.parquet',\n",
       " 'train_person_2.parquet',\n",
       " 'train_static_0_0.parquet',\n",
       " 'train_static_0_1.parquet',\n",
       " 'train_static_cb_0.parquet',\n",
       " 'train_tax_registry_a_1.parquet',\n",
       " 'train_tax_registry_b_1.parquet',\n",
       " 'train_tax_registry_c_1.parquet']"
      ]
     },
     "execution_count": 3,
     "metadata": {},
     "output_type": "execute_result"
    }
   ],
   "source": [
    "import os\n",
    "os.listdir(train_dir)"
   ]
  },
  {
   "cell_type": "code",
   "execution_count": 4,
   "metadata": {},
   "outputs": [],
   "source": [
    "files=['train_base.parquet',\n",
    "       'train_person_1.parquet',\n",
    "       'train_person_2.parquet',                                                                                 \n",
    "    'train_applprev_1*.parquet',\n",
    "             'train_applprev_2.parquet',\n",
    "             'train_credit_bureau_a_1*.parquet',\n",
    "             'train_credit_bureau_a_2*.parquet',\n",
    "             'train_credit_bureau_b_1.parquet',\n",
    "             'train_credit_bureau_b_2.parquet',\n",
    "             'train_debitcard_1.parquet',\n",
    "             'train_deposit_1.parquet',\n",
    "             'train_other_1.parquet',\n",
    "             'train_static_0*.parquet',\n",
    "             'train_static_cb_0.parquet',\n",
    "             'train_tax_registry_a_1.parquet',\n",
    "             'train_tax_registry_b_1.parquet',\n",
    "             'train_tax_registry_c_1.parquet']"
   ]
  },
  {
   "cell_type": "code",
   "execution_count": 5,
   "metadata": {},
   "outputs": [],
   "source": [
    "def load_data(files, dir_):\n",
    "    dfs=[]\n",
    "    PATH=Path(dir_)\n",
    "    for file in files:\n",
    "        paths=PATH.glob(file)\n",
    "        chunks=[]\n",
    "        for path in paths:\n",
    "            print(path)\n",
    "            df=pl.read_parquet(path)\n",
    "            chunks.append(df)        \n",
    "        df=pl.concat(chunks, how='vertical_relaxed')\n",
    "        df=df.filter(pl.col('case_id').is_in(case_id))\n",
    "        dfs.append(df)        \n",
    "    \n",
    "    return dfs"
   ]
  },
  {
   "cell_type": "code",
   "execution_count": 6,
   "metadata": {},
   "outputs": [],
   "source": [
    "case_id=pl.read_parquet(train_dir+'train_base.parquet')['case_id']"
   ]
  },
  {
   "cell_type": "code",
   "execution_count": 7,
   "metadata": {
    "scrolled": true
   },
   "outputs": [
    {
     "name": "stdout",
     "output_type": "stream",
     "text": [
      "parquet_files/train/train_base.parquet\n",
      "parquet_files/train/train_person_1.parquet\n",
      "parquet_files/train/train_person_2.parquet\n",
      "parquet_files/train/train_applprev_1_0.parquet\n",
      "parquet_files/train/train_applprev_1_1.parquet\n",
      "parquet_files/train/train_applprev_2.parquet\n",
      "parquet_files/train/train_credit_bureau_a_1_0.parquet\n",
      "parquet_files/train/train_credit_bureau_a_1_1.parquet\n",
      "parquet_files/train/train_credit_bureau_a_1_2.parquet\n",
      "parquet_files/train/train_credit_bureau_a_1_3.parquet\n",
      "parquet_files/train/train_credit_bureau_a_2_0.parquet\n",
      "parquet_files/train/train_credit_bureau_a_2_1.parquet\n",
      "parquet_files/train/train_credit_bureau_a_2_10.parquet\n",
      "parquet_files/train/train_credit_bureau_a_2_2.parquet\n",
      "parquet_files/train/train_credit_bureau_a_2_3.parquet\n",
      "parquet_files/train/train_credit_bureau_a_2_4.parquet\n",
      "parquet_files/train/train_credit_bureau_a_2_5.parquet\n",
      "parquet_files/train/train_credit_bureau_a_2_6.parquet\n",
      "parquet_files/train/train_credit_bureau_a_2_7.parquet\n",
      "parquet_files/train/train_credit_bureau_a_2_8.parquet\n",
      "parquet_files/train/train_credit_bureau_a_2_9.parquet\n",
      "parquet_files/train/train_credit_bureau_b_1.parquet\n",
      "parquet_files/train/train_credit_bureau_b_2.parquet\n",
      "parquet_files/train/train_debitcard_1.parquet\n",
      "parquet_files/train/train_deposit_1.parquet\n",
      "parquet_files/train/train_other_1.parquet\n",
      "parquet_files/train/train_static_0_0.parquet\n",
      "parquet_files/train/train_static_0_1.parquet\n",
      "parquet_files/train/train_static_cb_0.parquet\n",
      "parquet_files/train/train_tax_registry_a_1.parquet\n",
      "parquet_files/train/train_tax_registry_b_1.parquet\n",
      "parquet_files/train/train_tax_registry_c_1.parquet\n"
     ]
    }
   ],
   "source": [
    "dfs=load_data(files, train_dir)"
   ]
  },
  {
   "cell_type": "code",
   "execution_count": 8,
   "metadata": {},
   "outputs": [],
   "source": [
    "n_rows=[]\n",
    "n_columns=[]\n",
    "perc_nulls=[]\n",
    "for df in dfs:\n",
    "    n_column=len(df.columns)\n",
    "    n_row=len(df)\n",
    "    perc_null=sum(df.null_count().row(0))/(n_row*n_column)\n",
    "    n_rows.append(n_row)\n",
    "    n_columns.append(n_column)\n",
    "    perc_nulls.append(perc_null)    "
   ]
  },
  {
   "cell_type": "code",
   "execution_count": 9,
   "metadata": {},
   "outputs": [],
   "source": [
    "df=pl.DataFrame({'files':files, 'n_rows':n_rows, 'n_columns':n_columns, 'perc_nulls':perc_nulls})"
   ]
  },
  {
   "cell_type": "code",
   "execution_count": 10,
   "metadata": {},
   "outputs": [],
   "source": [
    "import matplotlib.pyplot as plt"
   ]
  },
  {
   "cell_type": "code",
   "execution_count": 11,
   "metadata": {},
   "outputs": [],
   "source": [
    "internal=['train_static_0*.parquet', \n",
    "          'train_person_1.parquet', \n",
    "          'train_person_2.parquet', \n",
    "          'train_applprev_1*.parquet', \n",
    "          'train_debitcard_1.parquet', \n",
    "          'train_deposit_1.parquet', \n",
    "          'train_other_1.parquet',\n",
    "          'train_applprev_2.parquet']\n",
    "external=['train_static_cb_0.parquet', \n",
    "          'train_credit_bureau_a_1*.parquet', \n",
    "          'train_credit_bureau_b_1.parquet', \n",
    "          'train_tax_registry_a_1.parquet', \n",
    "          'train_tax_registry_b_1.parquet', \n",
    "          'train_tax_registry_c_1.parquet', \n",
    "          'train_credit_bureau_a_2*.parquet', \n",
    "          'train_credit_bureau_b_2.parquet']"
   ]
  },
  {
   "cell_type": "code",
   "execution_count": 12,
   "metadata": {},
   "outputs": [],
   "source": [
    "internal_df=df.filter(pl.col('files').is_in(internal))"
   ]
  },
  {
   "cell_type": "code",
   "execution_count": 13,
   "metadata": {},
   "outputs": [
    {
     "data": {
      "text/plain": [
       "'train_person_2.parquet'"
      ]
     },
     "execution_count": 13,
     "metadata": {},
     "output_type": "execute_result"
    }
   ],
   "source": [
    "internal_df['files'].item(1)"
   ]
  },
  {
   "cell_type": "code",
   "execution_count": 14,
   "metadata": {},
   "outputs": [
    {
     "data": {
      "text/html": [
       "<div><style>\n",
       ".dataframe > thead > tr,\n",
       ".dataframe > tbody > tr {\n",
       "  text-align: right;\n",
       "  white-space: pre-wrap;\n",
       "}\n",
       "</style>\n",
       "<small>shape: (17, 4)</small><table border=\"1\" class=\"dataframe\"><thead><tr><th>files</th><th>n_rows</th><th>n_columns</th><th>perc_nulls</th></tr><tr><td>str</td><td>i64</td><td>i64</td><td>f64</td></tr></thead><tbody><tr><td>&quot;train_base.parquet&quot;</td><td>1526659</td><td>5</td><td>0.0</td></tr><tr><td>&quot;train_person_1.parquet&quot;</td><td>2973991</td><td>37</td><td>0.463946</td></tr><tr><td>&quot;train_person_2.parquet&quot;</td><td>1643410</td><td>11</td><td>0.267076</td></tr><tr><td>&quot;train_applprev_1*.parquet&quot;</td><td>6525979</td><td>41</td><td>0.313248</td></tr><tr><td>&quot;train_applprev_2.parquet&quot;</td><td>14075487</td><td>6</td><td>0.192258</td></tr><tr><td>&hellip;</td><td>&hellip;</td><td>&hellip;</td><td>&hellip;</td></tr><tr><td>&quot;train_static_0*.parquet&quot;</td><td>1526659</td><td>168</td><td>0.306082</td></tr><tr><td>&quot;train_static_cb_0.parquet&quot;</td><td>1500476</td><td>53</td><td>0.620881</td></tr><tr><td>&quot;train_tax_registry_a_1.parquet&quot;</td><td>3275770</td><td>5</td><td>0.0</td></tr><tr><td>&quot;train_tax_registry_b_1.parquet&quot;</td><td>1107933</td><td>5</td><td>0.0</td></tr><tr><td>&quot;train_tax_registry_c_1.parquet&quot;</td><td>3343800</td><td>5</td><td>0.0</td></tr></tbody></table></div>"
      ],
      "text/plain": [
       "shape: (17, 4)\n",
       "┌────────────────────────────────┬──────────┬───────────┬────────────┐\n",
       "│ files                          ┆ n_rows   ┆ n_columns ┆ perc_nulls │\n",
       "│ ---                            ┆ ---      ┆ ---       ┆ ---        │\n",
       "│ str                            ┆ i64      ┆ i64       ┆ f64        │\n",
       "╞════════════════════════════════╪══════════╪═══════════╪════════════╡\n",
       "│ train_base.parquet             ┆ 1526659  ┆ 5         ┆ 0.0        │\n",
       "│ train_person_1.parquet         ┆ 2973991  ┆ 37        ┆ 0.463946   │\n",
       "│ train_person_2.parquet         ┆ 1643410  ┆ 11        ┆ 0.267076   │\n",
       "│ train_applprev_1*.parquet      ┆ 6525979  ┆ 41        ┆ 0.313248   │\n",
       "│ train_applprev_2.parquet       ┆ 14075487 ┆ 6         ┆ 0.192258   │\n",
       "│ …                              ┆ …        ┆ …         ┆ …          │\n",
       "│ train_static_0*.parquet        ┆ 1526659  ┆ 168       ┆ 0.306082   │\n",
       "│ train_static_cb_0.parquet      ┆ 1500476  ┆ 53        ┆ 0.620881   │\n",
       "│ train_tax_registry_a_1.parquet ┆ 3275770  ┆ 5         ┆ 0.0        │\n",
       "│ train_tax_registry_b_1.parquet ┆ 1107933  ┆ 5         ┆ 0.0        │\n",
       "│ train_tax_registry_c_1.parquet ┆ 3343800  ┆ 5         ┆ 0.0        │\n",
       "└────────────────────────────────┴──────────┴───────────┴────────────┘"
      ]
     },
     "execution_count": 14,
     "metadata": {},
     "output_type": "execute_result"
    }
   ],
   "source": [
    "df"
   ]
  },
  {
   "cell_type": "code",
   "execution_count": null,
   "metadata": {},
   "outputs": [],
   "source": []
  },
  {
   "cell_type": "code",
   "execution_count": 5,
   "metadata": {},
   "outputs": [],
   "source": [
    "def cast_data(df):\n",
    "    for col in df.columns:\n",
    "        if col in ['case_id', 'NUM_WEEK', 'num_group1', 'num_group2']:\n",
    "            df=df.with_columns(pl.col(col).cast(pl.Int32))\n",
    "        if col[-1] in ['A', 'P']:\n",
    "            df=df.with_columns(pl.col(col).cast(pl.Float32))\n",
    "        elif (col[-1]=='M') & (col != 'WEEK_NUM'):\n",
    "            df=df.with_columns(pl.col(col).cast(pl.String))\n",
    "        elif (col[-1]=='D') | (col=='date_decision') :\n",
    "            df=df.with_columns(pl.col(col).cast(pl.Date))\n",
    "        elif df[col].dtype==pl.Boolean:\n",
    "            df=df.with_columns(pl.col(col).cast(pl.String))\n",
    "        # try: \n",
    "        #     if int(df[col].max()):\n",
    "        #         df=df.with_columns(pl.col(col).cast(pl.Int64))\n",
    "        # except TypeError:\n",
    "        #     df=df.with_columns(pl.col(col).cast(pl.Date))\n",
    "        # except ValueError:\n",
    "        #     try: \n",
    "        #         if float(df[col].max()):\n",
    "        #             df=df.with_columns(pl.col(col).cast(pl.Float64))\n",
    "        #     except ValueError:\n",
    "        #         df=df.with_columns(pl.col(col).cast(pl.String))\n",
    "    return df"
   ]
  },
  {
   "cell_type": "code",
   "execution_count": 6,
   "metadata": {},
   "outputs": [],
   "source": [
    "def aggregate_data(df):\n",
    "    base_cols=[col for col in df.columns if col in ['case_id', 'date_decision', 'WEEK_NUM', 'MONTH', 'target']]\n",
    "    base_agg=[pl.col(col).max() for col in base_cols if col !='case_id']\n",
    "    \n",
    "    cat_cols=[col for col in df.columns if (df[col].dtype ==pl.String) | (df[col].dtype==pl.Null) ]\n",
    "    cat_max=[pl.col(col).max().alias('max_'+col) for col in cat_cols]\n",
    "    cat_first=[pl.col(col).first().alias('first_'+col) for col in cat_cols]\n",
    "    cat_last=[pl.col(col).last().alias('last_'+col) for col in cat_cols]\n",
    "    cat_n_unique=[pl.col(col).n_unique().alias('n_unique_'+col) for col in cat_cols]\n",
    "    \n",
    "    d_cols=[col for col in df.columns if (df[col].dtype ==pl.Date)&(col!='date_decision')]\n",
    "    d_max=[pl.col(col).max().alias('max_'+col) for col in d_cols]\n",
    "    d_min=[pl.col(col).min().alias('min_'+col) for col in d_cols]\n",
    "    d_median=[pl.col(col).median().alias('median_'+col) for col in d_cols]\n",
    "\n",
    "    other_cols=[col for col in df.columns if col not in base_cols+cat_cols+d_cols]\n",
    "    max_other=[pl.col(col).max().alias('max_'+col) for col in other_cols]\n",
    "    mean_other=[pl.col(col).mean().alias('mean_'+col) for col in other_cols]\n",
    "    min_other=[pl.col(col).min().alias('min_'+col) for col in other_cols]\n",
    "    total=base_agg+cat_max+cat_first+cat_last+cat_n_unique+d_max+d_min+d_median+max_other+mean_other+min_other\n",
    "    return total"
   ]
  },
  {
   "cell_type": "code",
   "execution_count": 7,
   "metadata": {},
   "outputs": [],
   "source": [
    "def load_data(files, dir_):\n",
    "    PATH=Path(dir_)\n",
    "    for file in files:\n",
    "        paths=PATH.glob(file)\n",
    "        chunks=[]\n",
    "        for path in paths:\n",
    "            print(path)\n",
    "            df=pl.read_parquet(path)\n",
    "            df=cast_data(df)\n",
    "            if ('1' in file)|('2' in file):\n",
    "                df=df.group_by('case_id').agg(aggregate_data(df))\n",
    "            chunks.append(df)        \n",
    "        df=pl.concat(chunks, how='vertical_relaxed')\n",
    "        df = df.unique(subset=[\"case_id\"])\n",
    "        if file in ['train_base.parquet','test_base.parquet']:\n",
    "            base=df\n",
    "            name=file\n",
    "        else:\n",
    "            for col in df.columns:\n",
    "                if 'num_group' in col:\n",
    "                    if name=='train_base.parquet':\n",
    "                        df=df.rename({col:col+file[5:]})\n",
    "                    if name=='test_base.parquet':\n",
    "                        df=df.rename({col:col+file[4:]})        \n",
    "            base=base.join(df, on='case_id', how='left')\n",
    "    \n",
    "    return base"
   ]
  },
  {
   "cell_type": "code",
   "execution_count": 8,
   "metadata": {
    "scrolled": true
   },
   "outputs": [
    {
     "name": "stdout",
     "output_type": "stream",
     "text": [
      "parquet_files/train/train_base.parquet\n",
      "parquet_files/train/train_person_1.parquet\n",
      "parquet_files/train/train_person_2.parquet\n",
      "parquet_files/train/train_applprev_1_0.parquet\n",
      "parquet_files/train/train_applprev_1_1.parquet\n",
      "parquet_files/train/train_applprev_2.parquet\n",
      "parquet_files/train/train_credit_bureau_a_1_0.parquet\n",
      "parquet_files/train/train_credit_bureau_a_1_1.parquet\n",
      "parquet_files/train/train_credit_bureau_a_1_2.parquet\n",
      "parquet_files/train/train_credit_bureau_a_1_3.parquet\n",
      "parquet_files/train/train_credit_bureau_a_2_0.parquet\n",
      "parquet_files/train/train_credit_bureau_a_2_1.parquet\n",
      "parquet_files/train/train_credit_bureau_a_2_10.parquet\n",
      "parquet_files/train/train_credit_bureau_a_2_2.parquet\n",
      "parquet_files/train/train_credit_bureau_a_2_3.parquet\n",
      "parquet_files/train/train_credit_bureau_a_2_4.parquet\n",
      "parquet_files/train/train_credit_bureau_a_2_5.parquet\n",
      "parquet_files/train/train_credit_bureau_a_2_6.parquet\n",
      "parquet_files/train/train_credit_bureau_a_2_7.parquet\n",
      "parquet_files/train/train_credit_bureau_a_2_8.parquet\n",
      "parquet_files/train/train_credit_bureau_a_2_9.parquet\n",
      "parquet_files/train/train_credit_bureau_b_1.parquet\n",
      "parquet_files/train/train_credit_bureau_b_2.parquet\n",
      "parquet_files/train/train_debitcard_1.parquet\n",
      "parquet_files/train/train_deposit_1.parquet\n",
      "parquet_files/train/train_other_1.parquet\n",
      "parquet_files/train/train_static_0_0.parquet\n",
      "parquet_files/train/train_static_0_1.parquet\n",
      "parquet_files/train/train_static_cb_0.parquet\n",
      "parquet_files/train/train_tax_registry_a_1.parquet\n",
      "parquet_files/train/train_tax_registry_b_1.parquet\n",
      "parquet_files/train/train_tax_registry_c_1.parquet\n"
     ]
    }
   ],
   "source": [
    "df=load_data(files, train_dir)"
   ]
  },
  {
   "cell_type": "code",
   "execution_count": 9,
   "metadata": {},
   "outputs": [
    {
     "data": {
      "text/plain": [
       "1094"
      ]
     },
     "execution_count": 9,
     "metadata": {},
     "output_type": "execute_result"
    }
   ],
   "source": [
    "len(df.columns)"
   ]
  },
  {
   "cell_type": "code",
   "execution_count": 10,
   "metadata": {},
   "outputs": [],
   "source": [
    "def filter_cols(df):\n",
    "    hashes=[df[col].hash().to_numpy().tobytes() for col in df.columns]\n",
    "    seen_hashes=[]\n",
    "    duplicated_cols=[]\n",
    "    for i in range(len(hashes)):\n",
    "        if hashes[i] not in seen_hashes:\n",
    "            seen_hashes.append(hashes[i])\n",
    "        else:\n",
    "            duplicated_cols.append(df.columns[i])\n",
    "    print(f'number of duplicated columns is {len(duplicated_cols)}')\n",
    "    df=df.drop(duplicated_cols)\n",
    "\n",
    "    constant_cols=[]\n",
    "    for col in df.columns:\n",
    "        if df[col].n_unique()<=1:\n",
    "            constant_cols.append(col)\n",
    "    print(f'number of constant columns is {len(constant_cols)}')        \n",
    "    df=df.drop(constant_cols)\n",
    "\n",
    "    # high_cardinality_cols=[]\n",
    "    # for col in df.columns:\n",
    "    #     if (df[col].n_unique()>200)&(df[col].dtype==pl.String):\n",
    "    #         high_cardinality_cols.append(col)\n",
    "    # print(f'number of high_cardinality columns is {len(high_cardinality_cols)}')        \n",
    "    # df=df.drop(high_cardinality_cols)\n",
    "\n",
    "    # high_null_cols=[]\n",
    "    # for col in df.columns:\n",
    "    #     if df[col].null_count()/len(df)>0.95:\n",
    "    #         high_null_cols.append(col)\n",
    "    # print(f'number of high null columns is {len(high_null_cols)}')        \n",
    "    # df=df.drop(high_null_cols)\n",
    "    return df"
   ]
  },
  {
   "cell_type": "code",
   "execution_count": 11,
   "metadata": {},
   "outputs": [
    {
     "name": "stdout",
     "output_type": "stream",
     "text": [
      "number of duplicated columns is 57\n",
      "number of constant columns is 3\n"
     ]
    }
   ],
   "source": [
    "df=filter_cols(df)"
   ]
  },
  {
   "cell_type": "code",
   "execution_count": 12,
   "metadata": {},
   "outputs": [
    {
     "data": {
      "text/plain": [
       "1033"
      ]
     },
     "execution_count": 12,
     "metadata": {},
     "output_type": "execute_result"
    }
   ],
   "source": [
    "len(df.columns)-1"
   ]
  },
  {
   "cell_type": "code",
   "execution_count": 13,
   "metadata": {},
   "outputs": [
    {
     "data": {
      "text/plain": [
       "{Date,\n",
       " Datetime(time_unit='ms', time_zone=None),\n",
       " Float32,\n",
       " Float64,\n",
       " Int32,\n",
       " Int64,\n",
       " String,\n",
       " UInt32}"
      ]
     },
     "execution_count": 13,
     "metadata": {},
     "output_type": "execute_result"
    }
   ],
   "source": [
    "set(df.dtypes)"
   ]
  },
  {
   "cell_type": "code",
   "execution_count": 14,
   "metadata": {},
   "outputs": [
    {
     "data": {
      "text/plain": [
       "648"
      ]
     },
     "execution_count": 14,
     "metadata": {},
     "output_type": "execute_result"
    }
   ],
   "source": [
    "num_cols=[col for col in df.columns if df[col].dtype in [pl.Float32, pl.Float64, pl.Int32, pl.Int64, pl.UInt32]]\n",
    "len(num_cols)"
   ]
  },
  {
   "cell_type": "code",
   "execution_count": 15,
   "metadata": {},
   "outputs": [
    {
     "data": {
      "text/plain": [
       "267"
      ]
     },
     "execution_count": 15,
     "metadata": {},
     "output_type": "execute_result"
    }
   ],
   "source": [
    "cat_cols=[col for col in df.columns if df[col].dtype ==pl.String]\n",
    "len(cat_cols)"
   ]
  },
  {
   "cell_type": "code",
   "execution_count": 16,
   "metadata": {},
   "outputs": [
    {
     "data": {
      "text/plain": [
       "118"
      ]
     },
     "execution_count": 16,
     "metadata": {},
     "output_type": "execute_result"
    }
   ],
   "source": [
    "len(df.columns)-1-len(num_cols)-len(cat_cols)"
   ]
  },
  {
   "cell_type": "code",
   "execution_count": 17,
   "metadata": {},
   "outputs": [
    {
     "data": {
      "text/plain": [
       "277"
      ]
     },
     "execution_count": 17,
     "metadata": {},
     "output_type": "execute_result"
    }
   ],
   "source": [
    "n_max=len([col for col in df.columns if col[:3]=='max'])\n",
    "n_max"
   ]
  },
  {
   "cell_type": "code",
   "execution_count": 18,
   "metadata": {},
   "outputs": [
    {
     "data": {
      "text/plain": [
       "159"
      ]
     },
     "execution_count": 18,
     "metadata": {},
     "output_type": "execute_result"
    }
   ],
   "source": [
    "n_min=len([col for col in df.columns if col[:3]=='min'])\n",
    "n_min"
   ]
  },
  {
   "cell_type": "code",
   "execution_count": 19,
   "metadata": {},
   "outputs": [
    {
     "data": {
      "text/plain": [
       "135"
      ]
     },
     "execution_count": 19,
     "metadata": {},
     "output_type": "execute_result"
    }
   ],
   "source": [
    "n_mean=len([col for col in df.columns if col[:4]=='mean'])\n",
    "n_mean"
   ]
  },
  {
   "cell_type": "code",
   "execution_count": 20,
   "metadata": {},
   "outputs": [
    {
     "data": {
      "text/plain": [
       "33"
      ]
     },
     "execution_count": 20,
     "metadata": {},
     "output_type": "execute_result"
    }
   ],
   "source": [
    "n_median=len([col for col in df.columns if col[:6]=='median'])\n",
    "n_median"
   ]
  },
  {
   "cell_type": "code",
   "execution_count": 21,
   "metadata": {},
   "outputs": [
    {
     "data": {
      "text/plain": [
       "82"
      ]
     },
     "execution_count": 21,
     "metadata": {},
     "output_type": "execute_result"
    }
   ],
   "source": [
    "n_first=len([col for col in df.columns if col[:5]=='first'])\n",
    "n_first"
   ]
  },
  {
   "cell_type": "code",
   "execution_count": 22,
   "metadata": {},
   "outputs": [
    {
     "data": {
      "text/plain": [
       "96"
      ]
     },
     "execution_count": 22,
     "metadata": {},
     "output_type": "execute_result"
    }
   ],
   "source": [
    "n_last=len([col for col in df.columns if col[:4]=='last'])\n",
    "n_last"
   ]
  },
  {
   "cell_type": "code",
   "execution_count": 23,
   "metadata": {},
   "outputs": [
    {
     "data": {
      "text/plain": [
       "78"
      ]
     },
     "execution_count": 23,
     "metadata": {},
     "output_type": "execute_result"
    }
   ],
   "source": [
    "n_unique=len([col for col in df.columns if col[:8]=='n_unique'])\n",
    "n_unique"
   ]
  },
  {
   "cell_type": "code",
   "execution_count": 24,
   "metadata": {},
   "outputs": [],
   "source": [
    "total=n_max+n_min+n_mean+n_median+n_first+n_last+n_unique"
   ]
  },
  {
   "cell_type": "code",
   "execution_count": 25,
   "metadata": {},
   "outputs": [
    {
     "data": {
      "text/plain": [
       "174"
      ]
     },
     "execution_count": 25,
     "metadata": {},
     "output_type": "execute_result"
    }
   ],
   "source": [
    "len(df.columns)-total"
   ]
  },
  {
   "cell_type": "code",
   "execution_count": 26,
   "metadata": {},
   "outputs": [],
   "source": [
    "perc_null=np.array(df.null_count().row(0))/len(df)"
   ]
  },
  {
   "cell_type": "code",
   "execution_count": 27,
   "metadata": {},
   "outputs": [],
   "source": [
    "import matplotlib.pyplot as plt"
   ]
  },
  {
   "cell_type": "code",
   "execution_count": 75,
   "metadata": {},
   "outputs": [
    {
     "data": {
      "image/png": "[encoded data removed]",
      "text/plain": [
       "<Figure size 1000x400 with 1 Axes>"
      ]
     },
     "metadata": {},
     "output_type": "display_data"
    }
   ],
   "source": [
    "plt.figure(figsize=(10,4))\n",
    "plt.hist(perc_null, bins=50, edgecolor='black')\n",
    "plt.xlabel('%null')\n",
    "plt.ylabel('count')\n",
    "plt.xticks(np.arange(0, 1, 0.05))\n",
    "plt.title('histogram of null values')\n",
    "plt.tight_layout()\n",
    "plt.savefig('%null.png')"
   ]
  },
  {
   "cell_type": "code",
   "execution_count": 29,
   "metadata": {},
   "outputs": [
    {
     "data": {
      "text/plain": [
       "np.int64(240)"
      ]
     },
     "execution_count": 29,
     "metadata": {},
     "output_type": "execute_result"
    }
   ],
   "source": [
    "sum(perc_null>0.95)"
   ]
  },
  {
   "cell_type": "code",
   "execution_count": 30,
   "metadata": {},
   "outputs": [
    {
     "data": {
      "text/plain": [
       "np.float64(0.23210831721470018)"
      ]
     },
     "execution_count": 30,
     "metadata": {},
     "output_type": "execute_result"
    }
   ],
   "source": [
    "sum(perc_null>0.95)/len(df.columns)"
   ]
  },
  {
   "cell_type": "code",
   "execution_count": 31,
   "metadata": {},
   "outputs": [
    {
     "data": {
      "text/plain": [
       "np.int64(316)"
      ]
     },
     "execution_count": 31,
     "metadata": {},
     "output_type": "execute_result"
    }
   ],
   "source": [
    "sum((perc_null>0.15)&(perc_null<0.4))"
   ]
  },
  {
   "cell_type": "code",
   "execution_count": 32,
   "metadata": {},
   "outputs": [
    {
     "data": {
      "text/plain": [
       "np.float64(0.3056092843326886)"
      ]
     },
     "execution_count": 32,
     "metadata": {},
     "output_type": "execute_result"
    }
   ],
   "source": [
    "sum((perc_null>0.15)&(perc_null<0.4))/len(df.columns)"
   ]
  },
  {
   "cell_type": "code",
   "execution_count": 72,
   "metadata": {},
   "outputs": [
    {
     "data": {
      "image/png": "[encoded data removed]",
      "text/plain": [
       "<Figure size 1000x200 with 1 Axes>"
      ]
     },
     "metadata": {},
     "output_type": "display_data"
    }
   ],
   "source": [
    "import matplotlib.ticker as mticker\n",
    "plt.figure(figsize=(10,2))\n",
    "plt.hist(df['WEEK_NUM'], bins=91, edgecolor='black')\n",
    "plt.xticks(np.arange(0, 92, 3), fontsize=7)\n",
    "plt.gca().yaxis.set_major_formatter(mticker.FuncFormatter(lambda x, _: f'{int(x):,}'))\n",
    "plt.title('Histogram of WEEK_NUM')\n",
    "plt.savefig('week.png')"
   ]
  }
 ],
 "metadata": {
  "kaggle": {
   "accelerator": "nvidiaTeslaT4",
   "dataSources": [
    {
     "databundleVersionId": 7921029,
     "isSourceIdPinned": false,
     "sourceId": 50160,
     "sourceType": "competition"
    },
    {
     "datasetId": 7148037,
     "sourceId": 11412708,
     "sourceType": "datasetVersion"
    },
    {
     "isSourceIdPinned": false,
     "modelId": 299312,
     "modelInstanceId": 278406,
     "sourceId": 332120,
     "sourceType": "modelInstanceVersion"
    }
   ],
   "dockerImageVersionId": 30919,
   "isGpuEnabled": true,
   "isInternetEnabled": false,
   "language": "python",
   "sourceType": "notebook"
  },
  "kernelspec": {
   "display_name": "Python3 (ipykernel)",
   "language": "python",
   "name": "python3"
  },
  "language_info": {
   "codemirror_mode": {
    "name": "ipython",
    "version": 3
   },
   "file_extension": ".py",
   "mimetype": "text/x-python",
   "name": "python",
   "nbconvert_exporter": "python",
   "pygments_lexer": "ipython3",
   "version": "3.10.12"
  }
 },
 "nbformat": 4,
 "nbformat_minor": 4
}
